{
  "nbformat": 4,
  "nbformat_minor": 0,
  "metadata": {
    "colab": {
      "provenance": []
    },
    "kernelspec": {
      "name": "python3",
      "display_name": "Python 3"
    },
    "language_info": {
      "name": "python"
    }
  },
  "cells": [
    {
      "cell_type": "code",
      "execution_count": 2,
      "metadata": {
        "id": "r1Y6vO-Z6enY"
      },
      "outputs": [],
      "source": [
        "!pip install ultralytics -q\n",
        "!pip install pyyaml -q"
      ]
    },
    {
      "cell_type": "code",
      "source": [
        "from ultralytics import YOLO\n",
        "import yaml\n",
        "import cv2\n",
        "from google.colab.patches import cv2_imshow"
      ],
      "metadata": {
        "id": "N3sVr9y-9Ady"
      },
      "execution_count": 3,
      "outputs": []
    },
    {
      "cell_type": "code",
      "source": [
        "model = YOLO(\"yolov8n.pt\")"
      ],
      "metadata": {
        "colab": {
          "base_uri": "https://localhost:8080/"
        },
        "id": "BxRaJn0B9tXo",
        "outputId": "38836556-cee9-4d3d-b75a-8f764b5bf4e3"
      },
      "execution_count": 4,
      "outputs": [
        {
          "output_type": "stream",
          "name": "stderr",
          "text": [
            "Downloading https://github.com/ultralytics/assets/releases/download/v0.0.0/yolov8n.pt to yolov8n.pt...\n",
            "100%|██████████| 6.23M/6.23M [00:00<00:00, 86.6MB/s]\n"
          ]
        }
      ]
    },
    {
      "cell_type": "code",
      "source": [
        "model.predict(\"/content/dog.jpg\", save = True, save_txt = True)"
      ],
      "metadata": {
        "colab": {
          "base_uri": "https://localhost:8080/"
        },
        "id": "gDqrq3vA-GAl",
        "outputId": "afee8bbd-1b3a-4984-fb41-89459846a423"
      },
      "execution_count": 5,
      "outputs": [
        {
          "output_type": "stream",
          "name": "stderr",
          "text": [
            "\n",
            "image 1/1 /content/dog.jpg: 416x640 2 dogs, 1 horse, 1 cow, 299.8ms\n",
            "Speed: 18.3ms preprocess, 299.8ms inference, 27.7ms postprocess per image at shape (1, 3, 640, 640)\n",
            "Results saved to \u001b[1mruns/detect/predict\u001b[0m\n",
            "1 label saved to runs/detect/predict/labels\n"
          ]
        },
        {
          "output_type": "execute_result",
          "data": {
            "text/plain": [
              "[ultralytics.yolo.engine.results.Results object with attributes:\n",
              " \n",
              " boxes: ultralytics.yolo.engine.results.Boxes object\n",
              " keypoints: None\n",
              " keys: ['boxes']\n",
              " masks: None\n",
              " names: {0: 'person', 1: 'bicycle', 2: 'car', 3: 'motorcycle', 4: 'airplane', 5: 'bus', 6: 'train', 7: 'truck', 8: 'boat', 9: 'traffic light', 10: 'fire hydrant', 11: 'stop sign', 12: 'parking meter', 13: 'bench', 14: 'bird', 15: 'cat', 16: 'dog', 17: 'horse', 18: 'sheep', 19: 'cow', 20: 'elephant', 21: 'bear', 22: 'zebra', 23: 'giraffe', 24: 'backpack', 25: 'umbrella', 26: 'handbag', 27: 'tie', 28: 'suitcase', 29: 'frisbee', 30: 'skis', 31: 'snowboard', 32: 'sports ball', 33: 'kite', 34: 'baseball bat', 35: 'baseball glove', 36: 'skateboard', 37: 'surfboard', 38: 'tennis racket', 39: 'bottle', 40: 'wine glass', 41: 'cup', 42: 'fork', 43: 'knife', 44: 'spoon', 45: 'bowl', 46: 'banana', 47: 'apple', 48: 'sandwich', 49: 'orange', 50: 'broccoli', 51: 'carrot', 52: 'hot dog', 53: 'pizza', 54: 'donut', 55: 'cake', 56: 'chair', 57: 'couch', 58: 'potted plant', 59: 'bed', 60: 'dining table', 61: 'toilet', 62: 'tv', 63: 'laptop', 64: 'mouse', 65: 'remote', 66: 'keyboard', 67: 'cell phone', 68: 'microwave', 69: 'oven', 70: 'toaster', 71: 'sink', 72: 'refrigerator', 73: 'book', 74: 'clock', 75: 'vase', 76: 'scissors', 77: 'teddy bear', 78: 'hair drier', 79: 'toothbrush'}\n",
              " orig_img: array([[[ 53,  71,  72],\n",
              "         [ 53,  71,  72],\n",
              "         [ 52,  70,  71],\n",
              "         ...,\n",
              "         [ 89, 120, 119],\n",
              "         [ 87, 119, 118],\n",
              "         [ 87, 119, 118]],\n",
              " \n",
              "        [[ 53,  71,  72],\n",
              "         [ 53,  71,  72],\n",
              "         [ 52,  70,  71],\n",
              "         ...,\n",
              "         [ 91, 122, 121],\n",
              "         [ 90, 122, 121],\n",
              "         [ 90, 122, 121]],\n",
              " \n",
              "        [[ 53,  71,  72],\n",
              "         [ 53,  71,  72],\n",
              "         [ 52,  70,  71],\n",
              "         ...,\n",
              "         [ 94, 125, 124],\n",
              "         [ 94, 125, 124],\n",
              "         [ 94, 125, 124]],\n",
              " \n",
              "        ...,\n",
              " \n",
              "        [[141, 207, 195],\n",
              "         [142, 206, 194],\n",
              "         [151, 208, 199],\n",
              "         ...,\n",
              "         [ 64,  71,  91],\n",
              "         [ 62,  69,  89],\n",
              "         [ 62,  69,  89]],\n",
              " \n",
              "        [[137, 206, 193],\n",
              "         [140, 204, 192],\n",
              "         [151, 208, 199],\n",
              "         ...,\n",
              "         [ 64,  71,  91],\n",
              "         [ 62,  69,  89],\n",
              "         [ 62,  69,  89]],\n",
              " \n",
              "        [[139, 208, 195],\n",
              "         [142, 206, 194],\n",
              "         [152, 209, 200],\n",
              "         ...,\n",
              "         [ 64,  71,  91],\n",
              "         [ 63,  70,  90],\n",
              "         [ 62,  69,  89]]], dtype=uint8)\n",
              " orig_shape: (736, 1200)\n",
              " path: '/content/dog.jpg'\n",
              " probs: None\n",
              " speed: {'preprocess': 18.301725387573242, 'inference': 299.81398582458496, 'postprocess': 27.683258056640625}]"
            ]
          },
          "metadata": {},
          "execution_count": 5
        }
      ]
    },
    {
      "cell_type": "code",
      "source": [
        "model.predict(\"/content/human.jpg\", save = True, save_txt = True)"
      ],
      "metadata": {
        "colab": {
          "base_uri": "https://localhost:8080/"
        },
        "id": "OFc1JA27_vvN",
        "outputId": "610c475a-e214-4ce0-e610-29bb94cf2553"
      },
      "execution_count": 6,
      "outputs": [
        {
          "output_type": "stream",
          "name": "stderr",
          "text": [
            "\n",
            "image 1/1 /content/human.jpg: 448x640 12 persons, 337.6ms\n",
            "Speed: 16.2ms preprocess, 337.6ms inference, 5.0ms postprocess per image at shape (1, 3, 640, 640)\n",
            "Results saved to \u001b[1mruns/detect/predict\u001b[0m\n",
            "2 labels saved to runs/detect/predict/labels\n"
          ]
        },
        {
          "output_type": "execute_result",
          "data": {
            "text/plain": [
              "[ultralytics.yolo.engine.results.Results object with attributes:\n",
              " \n",
              " boxes: ultralytics.yolo.engine.results.Boxes object\n",
              " keypoints: None\n",
              " keys: ['boxes']\n",
              " masks: None\n",
              " names: {0: 'person', 1: 'bicycle', 2: 'car', 3: 'motorcycle', 4: 'airplane', 5: 'bus', 6: 'train', 7: 'truck', 8: 'boat', 9: 'traffic light', 10: 'fire hydrant', 11: 'stop sign', 12: 'parking meter', 13: 'bench', 14: 'bird', 15: 'cat', 16: 'dog', 17: 'horse', 18: 'sheep', 19: 'cow', 20: 'elephant', 21: 'bear', 22: 'zebra', 23: 'giraffe', 24: 'backpack', 25: 'umbrella', 26: 'handbag', 27: 'tie', 28: 'suitcase', 29: 'frisbee', 30: 'skis', 31: 'snowboard', 32: 'sports ball', 33: 'kite', 34: 'baseball bat', 35: 'baseball glove', 36: 'skateboard', 37: 'surfboard', 38: 'tennis racket', 39: 'bottle', 40: 'wine glass', 41: 'cup', 42: 'fork', 43: 'knife', 44: 'spoon', 45: 'bowl', 46: 'banana', 47: 'apple', 48: 'sandwich', 49: 'orange', 50: 'broccoli', 51: 'carrot', 52: 'hot dog', 53: 'pizza', 54: 'donut', 55: 'cake', 56: 'chair', 57: 'couch', 58: 'potted plant', 59: 'bed', 60: 'dining table', 61: 'toilet', 62: 'tv', 63: 'laptop', 64: 'mouse', 65: 'remote', 66: 'keyboard', 67: 'cell phone', 68: 'microwave', 69: 'oven', 70: 'toaster', 71: 'sink', 72: 'refrigerator', 73: 'book', 74: 'clock', 75: 'vase', 76: 'scissors', 77: 'teddy bear', 78: 'hair drier', 79: 'toothbrush'}\n",
              " orig_img: array([[[254, 254, 254],\n",
              "         [254, 254, 254],\n",
              "         [254, 254, 254],\n",
              "         ...,\n",
              "         [255, 255, 255],\n",
              "         [255, 255, 255],\n",
              "         [255, 255, 255]],\n",
              " \n",
              "        [[254, 254, 254],\n",
              "         [254, 254, 254],\n",
              "         [254, 254, 254],\n",
              "         ...,\n",
              "         [255, 255, 255],\n",
              "         [255, 255, 255],\n",
              "         [255, 255, 255]],\n",
              " \n",
              "        [[254, 254, 254],\n",
              "         [254, 254, 254],\n",
              "         [254, 254, 254],\n",
              "         ...,\n",
              "         [255, 255, 255],\n",
              "         [255, 255, 255],\n",
              "         [255, 255, 255]],\n",
              " \n",
              "        ...,\n",
              " \n",
              "        [[254, 254, 254],\n",
              "         [254, 254, 254],\n",
              "         [255, 255, 255],\n",
              "         ...,\n",
              "         [253, 254, 252],\n",
              "         [253, 254, 252],\n",
              "         [254, 255, 253]],\n",
              " \n",
              "        [[254, 254, 254],\n",
              "         [254, 254, 254],\n",
              "         [254, 254, 254],\n",
              "         ...,\n",
              "         [253, 254, 250],\n",
              "         [253, 254, 250],\n",
              "         [254, 255, 251]],\n",
              " \n",
              "        [[254, 254, 254],\n",
              "         [254, 254, 254],\n",
              "         [254, 254, 254],\n",
              "         ...,\n",
              "         [253, 254, 250],\n",
              "         [253, 254, 250],\n",
              "         [254, 255, 251]]], dtype=uint8)\n",
              " orig_shape: (400, 600)\n",
              " path: '/content/human.jpg'\n",
              " probs: None\n",
              " speed: {'preprocess': 16.23821258544922, 'inference': 337.60738372802734, 'postprocess': 5.040645599365234}]"
            ]
          },
          "metadata": {},
          "execution_count": 6
        }
      ]
    },
    {
      "cell_type": "code",
      "source": [
        "model.predict(\"/content/humananddog.jpg\", save = True, save_txt = True)"
      ],
      "metadata": {
        "colab": {
          "base_uri": "https://localhost:8080/"
        },
        "id": "HQ9P2wwXAiiK",
        "outputId": "f3c2e262-f511-4fe2-ff70-93f5ba69185d"
      },
      "execution_count": 7,
      "outputs": [
        {
          "output_type": "stream",
          "name": "stderr",
          "text": [
            "\n",
            "image 1/1 /content/humananddog.jpg: 448x640 1 person, 1 dog, 183.8ms\n",
            "Speed: 3.3ms preprocess, 183.8ms inference, 1.4ms postprocess per image at shape (1, 3, 640, 640)\n",
            "Results saved to \u001b[1mruns/detect/predict\u001b[0m\n",
            "3 labels saved to runs/detect/predict/labels\n"
          ]
        },
        {
          "output_type": "execute_result",
          "data": {
            "text/plain": [
              "[ultralytics.yolo.engine.results.Results object with attributes:\n",
              " \n",
              " boxes: ultralytics.yolo.engine.results.Boxes object\n",
              " keypoints: None\n",
              " keys: ['boxes']\n",
              " masks: None\n",
              " names: {0: 'person', 1: 'bicycle', 2: 'car', 3: 'motorcycle', 4: 'airplane', 5: 'bus', 6: 'train', 7: 'truck', 8: 'boat', 9: 'traffic light', 10: 'fire hydrant', 11: 'stop sign', 12: 'parking meter', 13: 'bench', 14: 'bird', 15: 'cat', 16: 'dog', 17: 'horse', 18: 'sheep', 19: 'cow', 20: 'elephant', 21: 'bear', 22: 'zebra', 23: 'giraffe', 24: 'backpack', 25: 'umbrella', 26: 'handbag', 27: 'tie', 28: 'suitcase', 29: 'frisbee', 30: 'skis', 31: 'snowboard', 32: 'sports ball', 33: 'kite', 34: 'baseball bat', 35: 'baseball glove', 36: 'skateboard', 37: 'surfboard', 38: 'tennis racket', 39: 'bottle', 40: 'wine glass', 41: 'cup', 42: 'fork', 43: 'knife', 44: 'spoon', 45: 'bowl', 46: 'banana', 47: 'apple', 48: 'sandwich', 49: 'orange', 50: 'broccoli', 51: 'carrot', 52: 'hot dog', 53: 'pizza', 54: 'donut', 55: 'cake', 56: 'chair', 57: 'couch', 58: 'potted plant', 59: 'bed', 60: 'dining table', 61: 'toilet', 62: 'tv', 63: 'laptop', 64: 'mouse', 65: 'remote', 66: 'keyboard', 67: 'cell phone', 68: 'microwave', 69: 'oven', 70: 'toaster', 71: 'sink', 72: 'refrigerator', 73: 'book', 74: 'clock', 75: 'vase', 76: 'scissors', 77: 'teddy bear', 78: 'hair drier', 79: 'toothbrush'}\n",
              " orig_img: array([[[231, 245, 241],\n",
              "         [231, 245, 241],\n",
              "         [231, 245, 241],\n",
              "         ...,\n",
              "         [228, 242, 236],\n",
              "         [228, 242, 236],\n",
              "         [229, 243, 237]],\n",
              " \n",
              "        [[231, 245, 241],\n",
              "         [231, 245, 241],\n",
              "         [231, 245, 241],\n",
              "         ...,\n",
              "         [228, 242, 236],\n",
              "         [228, 242, 236],\n",
              "         [228, 242, 236]],\n",
              " \n",
              "        [[231, 245, 241],\n",
              "         [231, 245, 241],\n",
              "         [231, 245, 241],\n",
              "         ...,\n",
              "         [228, 242, 236],\n",
              "         [228, 242, 236],\n",
              "         [228, 242, 236]],\n",
              " \n",
              "        ...,\n",
              " \n",
              "        [[215, 230, 226],\n",
              "         [213, 228, 224],\n",
              "         [211, 225, 221],\n",
              "         ...,\n",
              "         [168, 159, 155],\n",
              "         [163, 154, 151],\n",
              "         [159, 150, 147]],\n",
              " \n",
              "        [[213, 228, 224],\n",
              "         [211, 226, 222],\n",
              "         [208, 222, 218],\n",
              "         ...,\n",
              "         [168, 159, 155],\n",
              "         [162, 153, 150],\n",
              "         [157, 148, 145]],\n",
              " \n",
              "        [[213, 228, 224],\n",
              "         [210, 225, 221],\n",
              "         [206, 220, 216],\n",
              "         ...,\n",
              "         [170, 161, 157],\n",
              "         [164, 155, 152],\n",
              "         [158, 149, 146]]], dtype=uint8)\n",
              " orig_shape: (500, 750)\n",
              " path: '/content/humananddog.jpg'\n",
              " probs: None\n",
              " speed: {'preprocess': 3.307342529296875, 'inference': 183.7599277496338, 'postprocess': 1.3937950134277344}]"
            ]
          },
          "metadata": {},
          "execution_count": 7
        }
      ]
    },
    {
      "cell_type": "code",
      "source": [
        "model.predict(\"/content/humananddog.jpg\", save = True, save_txt = True)"
      ],
      "metadata": {
        "colab": {
          "base_uri": "https://localhost:8080/"
        },
        "id": "bOdKk0xmBCQL",
        "outputId": "84c1d041-5442-4e5a-80ae-0d3c08e32ad3"
      },
      "execution_count": 8,
      "outputs": [
        {
          "output_type": "stream",
          "name": "stderr",
          "text": [
            "\n",
            "image 1/1 /content/humananddog.jpg: 448x640 1 person, 1 dog, 265.9ms\n",
            "Speed: 3.8ms preprocess, 265.9ms inference, 1.8ms postprocess per image at shape (1, 3, 640, 640)\n",
            "Results saved to \u001b[1mruns/detect/predict\u001b[0m\n",
            "3 labels saved to runs/detect/predict/labels\n"
          ]
        },
        {
          "output_type": "execute_result",
          "data": {
            "text/plain": [
              "[ultralytics.yolo.engine.results.Results object with attributes:\n",
              " \n",
              " boxes: ultralytics.yolo.engine.results.Boxes object\n",
              " keypoints: None\n",
              " keys: ['boxes']\n",
              " masks: None\n",
              " names: {0: 'person', 1: 'bicycle', 2: 'car', 3: 'motorcycle', 4: 'airplane', 5: 'bus', 6: 'train', 7: 'truck', 8: 'boat', 9: 'traffic light', 10: 'fire hydrant', 11: 'stop sign', 12: 'parking meter', 13: 'bench', 14: 'bird', 15: 'cat', 16: 'dog', 17: 'horse', 18: 'sheep', 19: 'cow', 20: 'elephant', 21: 'bear', 22: 'zebra', 23: 'giraffe', 24: 'backpack', 25: 'umbrella', 26: 'handbag', 27: 'tie', 28: 'suitcase', 29: 'frisbee', 30: 'skis', 31: 'snowboard', 32: 'sports ball', 33: 'kite', 34: 'baseball bat', 35: 'baseball glove', 36: 'skateboard', 37: 'surfboard', 38: 'tennis racket', 39: 'bottle', 40: 'wine glass', 41: 'cup', 42: 'fork', 43: 'knife', 44: 'spoon', 45: 'bowl', 46: 'banana', 47: 'apple', 48: 'sandwich', 49: 'orange', 50: 'broccoli', 51: 'carrot', 52: 'hot dog', 53: 'pizza', 54: 'donut', 55: 'cake', 56: 'chair', 57: 'couch', 58: 'potted plant', 59: 'bed', 60: 'dining table', 61: 'toilet', 62: 'tv', 63: 'laptop', 64: 'mouse', 65: 'remote', 66: 'keyboard', 67: 'cell phone', 68: 'microwave', 69: 'oven', 70: 'toaster', 71: 'sink', 72: 'refrigerator', 73: 'book', 74: 'clock', 75: 'vase', 76: 'scissors', 77: 'teddy bear', 78: 'hair drier', 79: 'toothbrush'}\n",
              " orig_img: array([[[231, 245, 241],\n",
              "         [231, 245, 241],\n",
              "         [231, 245, 241],\n",
              "         ...,\n",
              "         [228, 242, 236],\n",
              "         [228, 242, 236],\n",
              "         [229, 243, 237]],\n",
              " \n",
              "        [[231, 245, 241],\n",
              "         [231, 245, 241],\n",
              "         [231, 245, 241],\n",
              "         ...,\n",
              "         [228, 242, 236],\n",
              "         [228, 242, 236],\n",
              "         [228, 242, 236]],\n",
              " \n",
              "        [[231, 245, 241],\n",
              "         [231, 245, 241],\n",
              "         [231, 245, 241],\n",
              "         ...,\n",
              "         [228, 242, 236],\n",
              "         [228, 242, 236],\n",
              "         [228, 242, 236]],\n",
              " \n",
              "        ...,\n",
              " \n",
              "        [[215, 230, 226],\n",
              "         [213, 228, 224],\n",
              "         [211, 225, 221],\n",
              "         ...,\n",
              "         [168, 159, 155],\n",
              "         [163, 154, 151],\n",
              "         [159, 150, 147]],\n",
              " \n",
              "        [[213, 228, 224],\n",
              "         [211, 226, 222],\n",
              "         [208, 222, 218],\n",
              "         ...,\n",
              "         [168, 159, 155],\n",
              "         [162, 153, 150],\n",
              "         [157, 148, 145]],\n",
              " \n",
              "        [[213, 228, 224],\n",
              "         [210, 225, 221],\n",
              "         [206, 220, 216],\n",
              "         ...,\n",
              "         [170, 161, 157],\n",
              "         [164, 155, 152],\n",
              "         [158, 149, 146]]], dtype=uint8)\n",
              " orig_shape: (500, 750)\n",
              " path: '/content/humananddog.jpg'\n",
              " probs: None\n",
              " speed: {'preprocess': 3.7529468536376953, 'inference': 265.87629318237305, 'postprocess': 1.7788410186767578}]"
            ]
          },
          "metadata": {},
          "execution_count": 8
        }
      ]
    }
  ]
}